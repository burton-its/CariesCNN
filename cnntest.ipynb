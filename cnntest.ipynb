{
  "nbformat": 4,
  "nbformat_minor": 0,
  "metadata": {
    "colab": {
      "name": "cnntest.ipynb",
      "provenance": [],
      "collapsed_sections": [],
      "mount_file_id": "1NmOcsM_tJaObCdwZXQn07l2ptLQ04qYh",
      "authorship_tag": "ABX9TyNCUi+ipw7iSmYy/pmWzrk3",
      "include_colab_link": true
    },
    "kernelspec": {
      "name": "python3",
      "display_name": "Python 3"
    },
    "language_info": {
      "name": "python"
    }
  },
  "cells": [
    {
      "cell_type": "markdown",
      "metadata": {
        "id": "view-in-github",
        "colab_type": "text"
      },
      "source": [
        "<a href=\"https://colab.research.google.com/github/burton-its/CariesCNN/blob/main/cnntest.ipynb\" target=\"_parent\"><img src=\"https://colab.research.google.com/assets/colab-badge.svg\" alt=\"Open In Colab\"/></a>"
      ]
    },
    {
      "cell_type": "code",
      "metadata": {
        "id": "4VQxzpgkLCS8"
      },
      "source": [
        "import os\n",
        "import matplotlib.pyplot as plt\n",
        "import cv2 as cv\n",
        "import tensorflow as tf\n",
        "from tensorflow.keras.preprocessing.image import ImageDataGenerator\n",
        "import pandas as pd\n",
        "import numpy as np\n",
        "from tensorflow.keras import datasets, layers, models\n",
        "from keras.models import Sequential\n",
        "from keras.layers import Dense, Conv2D, Flatten, MaxPooling2D, Conv1D\n",
        "from sklearn import metrics\n",
        "\n"
      ],
      "execution_count": 1,
      "outputs": []
    },
    {
      "cell_type": "markdown",
      "metadata": {
        "id": "dQ-egII2EaKF"
      },
      "source": [
        "To start, this is a difficult problem set due to the nature of the classification problem. Along with that the train/test dataset sizes are incredibly small for this problem. "
      ]
    },
    {
      "cell_type": "markdown",
      "metadata": {
        "id": "vRD7YvdmE1m2"
      },
      "source": [
        "Objective: Application of deep learning to conduct a binary classification of dental caries within radiographs. Patient radiographs were anonymized and classified as a caries lesions or a non caries lesion by a DDS. \n",
        "Methods: 50 radiographs were used to assess binary classification, 40 images were used as a training dataset and 10 images were used as a test dataset. A Convolutional Neural Network was used to conduct this classification. \n",
        "Results: The neural network showed an accuracy of .975 which, while it looks incredibly good, is most likely indicative of overfitting due to the small sample size. "
      ]
    },
    {
      "cell_type": "code",
      "metadata": {
        "id": "D6DXzC28WgF3",
        "colab": {
          "base_uri": "https://localhost:8080/"
        },
        "outputId": "2f6704d2-918a-4f6f-f546-35d70571ae00"
      },
      "source": [
        "len(os.listdir('/content/drive/MyDrive/data/Train/train_nocaries'))"
      ],
      "execution_count": 2,
      "outputs": [
        {
          "output_type": "execute_result",
          "data": {
            "text/plain": [
              "21"
            ]
          },
          "metadata": {},
          "execution_count": 2
        }
      ]
    },
    {
      "cell_type": "code",
      "metadata": {
        "colab": {
          "base_uri": "https://localhost:8080/"
        },
        "id": "jnVq6VrUgNYY",
        "outputId": "bd11a77a-3a53-4ace-f0b7-ee07d58bdac7"
      },
      "source": [
        "# %cd /content/drive/MyDrive/data/Train/\n",
        "# %rm -r .ipynb_checkpoints/"
      ],
      "execution_count": null,
      "outputs": [
        {
          "output_type": "stream",
          "name": "stdout",
          "text": [
            "/content/drive/MyDrive/data/Train\n",
            "rm: cannot remove '.ipynb_checkpoints/': No such file or directory\n"
          ]
        }
      ]
    },
    {
      "cell_type": "code",
      "metadata": {
        "id": "Nz7tObQXzRly",
        "colab": {
          "base_uri": "https://localhost:8080/"
        },
        "outputId": "97372175-5351-46a8-a7eb-b151fad6dcf3"
      },
      "source": [
        "train_generator = ImageDataGenerator(rescale=1./255).flow_from_directory(\n",
        "                                                    '/content/drive/MyDrive/data/Train',\n",
        "                                                     target_size=(256, 256),\n",
        "                                                     batch_size=40,\n",
        "                                                     class_mode='binary',\n",
        "                                                     seed=123)"
      ],
      "execution_count": 3,
      "outputs": [
        {
          "output_type": "stream",
          "name": "stdout",
          "text": [
            "Found 40 images belonging to 2 classes.\n"
          ]
        }
      ]
    },
    {
      "cell_type": "code",
      "metadata": {
        "id": "S2WAqMxFz2Pn",
        "colab": {
          "base_uri": "https://localhost:8080/"
        },
        "outputId": "6fd04087-1808-4281-b216-704c9e2af131"
      },
      "source": [
        "test_generator = ImageDataGenerator(rescale=1./255).flow_from_directory(\n",
        "                                                    '/content/drive/MyDrive/data/Test',\n",
        "                                                     target_size=(256, 256),\n",
        "                                                     batch_size=10,\n",
        "                                                     class_mode='binary',\n",
        "                                                     seed=123)"
      ],
      "execution_count": 4,
      "outputs": [
        {
          "output_type": "stream",
          "name": "stdout",
          "text": [
            "Found 10 images belonging to 2 classes.\n"
          ]
        }
      ]
    },
    {
      "cell_type": "code",
      "metadata": {
        "colab": {
          "base_uri": "https://localhost:8080/"
        },
        "id": "T6NIDxymfoCb",
        "outputId": "472e528c-fe5f-459d-e718-ec2993366053"
      },
      "source": [
        "train_generator.class_indices"
      ],
      "execution_count": 5,
      "outputs": [
        {
          "output_type": "execute_result",
          "data": {
            "text/plain": [
              "{'train_caries': 0, 'train_nocaries': 1}"
            ]
          },
          "metadata": {},
          "execution_count": 5
        }
      ]
    },
    {
      "cell_type": "code",
      "metadata": {
        "id": "E-fuhL1m8uZL"
      },
      "source": [
        "X_train, y_train = next(train_generator)\n",
        "X_test, y_test = next(test_generator)"
      ],
      "execution_count": 6,
      "outputs": []
    },
    {
      "cell_type": "code",
      "metadata": {
        "colab": {
          "base_uri": "https://localhost:8080/"
        },
        "id": "ENcHj9EVc3aF",
        "outputId": "c1ec42dc-7186-419b-d31f-d43981457bff"
      },
      "source": [
        "y_train = y_train.astype('int')\n",
        "y_train"
      ],
      "execution_count": 7,
      "outputs": [
        {
          "output_type": "execute_result",
          "data": {
            "text/plain": [
              "array([0, 0, 0, 1, 0, 0, 1, 0, 0, 1, 0, 1, 1, 0, 0, 1, 0, 1, 1, 0, 1, 0,\n",
              "       1, 1, 1, 1, 0, 0, 0, 0, 1, 1, 1, 1, 1, 0, 0, 1, 1, 0])"
            ]
          },
          "metadata": {},
          "execution_count": 7
        }
      ]
    },
    {
      "cell_type": "code",
      "metadata": {
        "colab": {
          "base_uri": "https://localhost:8080/"
        },
        "id": "aXPrJYVNHmYh",
        "outputId": "d67f1833-e7f1-490c-a036-2fb1fa9260ff"
      },
      "source": [
        "y_test"
      ],
      "execution_count": 9,
      "outputs": [
        {
          "output_type": "execute_result",
          "data": {
            "text/plain": [
              "array([0., 0., 1., 1., 1., 0., 0., 1., 1., 0.], dtype=float32)"
            ]
          },
          "metadata": {},
          "execution_count": 9
        }
      ]
    },
    {
      "cell_type": "code",
      "metadata": {
        "colab": {
          "base_uri": "https://localhost:8080/"
        },
        "id": "3l4IhdppiN9E",
        "outputId": "c825f22c-7ada-4867-a99e-e0f900eba8ae"
      },
      "source": [
        "X_train.shape"
      ],
      "execution_count": 8,
      "outputs": [
        {
          "output_type": "execute_result",
          "data": {
            "text/plain": [
              "(40, 256, 256, 3)"
            ]
          },
          "metadata": {},
          "execution_count": 8
        }
      ]
    },
    {
      "cell_type": "code",
      "metadata": {
        "id": "7nlHjoWXdD6m"
      },
      "source": [
        "model = Sequential()\n",
        "# Adds a densely-connected layer with 64 units to the model:\n",
        "model.add(Conv2D(64,(3,3), activation = 'relu', input_shape = X_train.shape[1:]))\n",
        "model.add(MaxPooling2D(pool_size = (2,2)))\n",
        "# Add another:\n",
        "# model.add(Conv2D(64,(3,3), activation = 'relu'))\n",
        "# model.add(MaxPooling2D(pool_size = (2,2)))\n",
        "\n",
        "model.add(Flatten())\n",
        "model.add(Dense(64, activation='relu'))\n",
        "# Add a softmax layer with 10 output units:\n",
        "model.add(Dense(1, activation='sigmoid'))\n",
        "\n",
        "# model = Sequential()\n",
        "# model.add(Conv2D(4, 4, activation=\"relu\", input_shape=(256,256,3)))\n",
        "# model.add(Dense(256, activation=\"softmax\"))\n",
        "# model.add(Flatten())\n",
        "# model.add(Dense(1))"
      ],
      "execution_count": 10,
      "outputs": []
    },
    {
      "cell_type": "code",
      "metadata": {
        "colab": {
          "base_uri": "https://localhost:8080/"
        },
        "id": "l6tDBs3fdkjR",
        "outputId": "ad596c76-da22-4c3e-fb77-9e36121fee45"
      },
      "source": [
        "\n",
        "model.summary()"
      ],
      "execution_count": 11,
      "outputs": [
        {
          "output_type": "stream",
          "name": "stdout",
          "text": [
            "Model: \"sequential\"\n",
            "_________________________________________________________________\n",
            " Layer (type)                Output Shape              Param #   \n",
            "=================================================================\n",
            " conv2d (Conv2D)             (None, 254, 254, 64)      1792      \n",
            "                                                                 \n",
            " max_pooling2d (MaxPooling2D  (None, 127, 127, 64)     0         \n",
            " )                                                               \n",
            "                                                                 \n",
            " flatten (Flatten)           (None, 1032256)           0         \n",
            "                                                                 \n",
            " dense (Dense)               (None, 64)                66064448  \n",
            "                                                                 \n",
            " dense_1 (Dense)             (None, 1)                 65        \n",
            "                                                                 \n",
            "=================================================================\n",
            "Total params: 66,066,305\n",
            "Trainable params: 66,066,305\n",
            "Non-trainable params: 0\n",
            "_________________________________________________________________\n"
          ]
        }
      ]
    },
    {
      "cell_type": "code",
      "metadata": {
        "id": "6ntz8RwSdrW5"
      },
      "source": [
        "model.compile(optimizer=\"adam\",\n",
        "              loss='binary_crossentropy',\n",
        "              metrics=['accuracy'])\n",
        "\n",
        "\n",
        "# model.compile(optimizer='adam',\n",
        "#               loss=tf.keras.losses.BinaryCrossentropy(from_logits=True),\n",
        "#               metrics=['accuracy'])"
      ],
      "execution_count": 12,
      "outputs": []
    },
    {
      "cell_type": "code",
      "metadata": {
        "colab": {
          "base_uri": "https://localhost:8080/"
        },
        "id": "KyKJxW9MdvyD",
        "outputId": "b319e302-3ac7-4749-d68d-15488422ef44"
      },
      "source": [
        "history = model.fit(X_train, y_train, epochs=15)"
      ],
      "execution_count": 14,
      "outputs": [
        {
          "output_type": "stream",
          "name": "stdout",
          "text": [
            "Epoch 1/15\n",
            "2/2 [==============================] - 3s 798ms/step - loss: 0.0358 - accuracy: 1.0000\n",
            "Epoch 2/15\n",
            "2/2 [==============================] - 3s 755ms/step - loss: 0.0750 - accuracy: 1.0000\n",
            "Epoch 3/15\n",
            "2/2 [==============================] - 3s 799ms/step - loss: 0.0414 - accuracy: 1.0000\n",
            "Epoch 4/15\n",
            "2/2 [==============================] - 3s 788ms/step - loss: 0.0611 - accuracy: 1.0000\n",
            "Epoch 5/15\n",
            "2/2 [==============================] - 3s 761ms/step - loss: 0.0344 - accuracy: 1.0000\n",
            "Epoch 6/15\n",
            "2/2 [==============================] - 3s 795ms/step - loss: 0.0293 - accuracy: 1.0000\n",
            "Epoch 7/15\n",
            "2/2 [==============================] - 3s 785ms/step - loss: 0.0217 - accuracy: 1.0000\n",
            "Epoch 8/15\n",
            "2/2 [==============================] - 3s 779ms/step - loss: 0.0140 - accuracy: 1.0000\n",
            "Epoch 9/15\n",
            "2/2 [==============================] - 3s 733ms/step - loss: 0.0081 - accuracy: 1.0000\n",
            "Epoch 10/15\n",
            "2/2 [==============================] - 3s 706ms/step - loss: 0.0045 - accuracy: 1.0000\n",
            "Epoch 11/15\n",
            "2/2 [==============================] - 3s 765ms/step - loss: 0.0023 - accuracy: 1.0000\n",
            "Epoch 12/15\n",
            "2/2 [==============================] - 3s 771ms/step - loss: 8.0516e-04 - accuracy: 1.0000\n",
            "Epoch 13/15\n",
            "2/2 [==============================] - 3s 741ms/step - loss: 7.2038e-04 - accuracy: 1.0000\n",
            "Epoch 14/15\n",
            "2/2 [==============================] - 3s 774ms/step - loss: 4.4551e-04 - accuracy: 1.0000\n",
            "Epoch 15/15\n",
            "2/2 [==============================] - 3s 751ms/step - loss: 7.3014e-04 - accuracy: 1.0000\n"
          ]
        }
      ]
    },
    {
      "cell_type": "code",
      "metadata": {
        "id": "iGfQd9H8d4lv"
      },
      "source": [
        "from sklearn.metrics import confusion_matrix\n",
        "from sklearn.metrics import ConfusionMatrixDisplay"
      ],
      "execution_count": 15,
      "outputs": []
    },
    {
      "cell_type": "code",
      "metadata": {
        "colab": {
          "base_uri": "https://localhost:8080/"
        },
        "id": "_wSRFvd3_xf7",
        "outputId": "e810eca1-a383-4cae-e84b-48026d0b6ca4"
      },
      "source": [
        "predictions = model.predict(X_test)\n",
        "predictions"
      ],
      "execution_count": 16,
      "outputs": [
        {
          "output_type": "execute_result",
          "data": {
            "text/plain": [
              "array([[0.03292239],\n",
              "       [0.20085403],\n",
              "       [0.04781964],\n",
              "       [0.7847897 ],\n",
              "       [0.15522704],\n",
              "       [0.17338052],\n",
              "       [0.0761027 ],\n",
              "       [0.85288423],\n",
              "       [0.5019599 ],\n",
              "       [0.84670043]], dtype=float32)"
            ]
          },
          "metadata": {},
          "execution_count": 16
        }
      ]
    },
    {
      "cell_type": "code",
      "metadata": {
        "id": "gSPY_7Z0_4_l"
      },
      "source": [
        "predictions = np.where(predictions > 0.5, 1, 0)"
      ],
      "execution_count": 17,
      "outputs": []
    },
    {
      "cell_type": "code",
      "metadata": {
        "id": "OavY9fyXLO6L"
      },
      "source": [
        "from tensorflow.keras.models import save_model, load_model"
      ],
      "execution_count": 35,
      "outputs": []
    },
    {
      "cell_type": "code",
      "metadata": {
        "colab": {
          "base_uri": "https://localhost:8080/"
        },
        "id": "IpqzHznXLUbQ",
        "outputId": "1073037c-485b-4e02-9ba9-5b67aacbec1e"
      },
      "source": [
        "save_model(model,'cariestest.model')"
      ],
      "execution_count": 36,
      "outputs": [
        {
          "output_type": "stream",
          "name": "stdout",
          "text": [
            "INFO:tensorflow:Assets written to: cariestest.model/assets\n"
          ]
        }
      ]
    },
    {
      "cell_type": "code",
      "metadata": {
        "colab": {
          "base_uri": "https://localhost:8080/"
        },
        "id": "FMtOxwkmLbZC",
        "outputId": "4344ab09-68eb-4bb5-dfbb-6a414c509917"
      },
      "source": [
        "saved_model = load_model('cariestest.model', compile=False)\n",
        "saved_model.compile(optimizer='adam',\n",
        "          loss='binary_crossentropy',\n",
        "          metrics=['accuracy'])\n",
        "saved_model.predict([X_test])"
      ],
      "execution_count": 37,
      "outputs": [
        {
          "output_type": "execute_result",
          "data": {
            "text/plain": [
              "array([[0.03292239],\n",
              "       [0.20085403],\n",
              "       [0.04781964],\n",
              "       [0.7847897 ],\n",
              "       [0.15522704],\n",
              "       [0.17338052],\n",
              "       [0.0761027 ],\n",
              "       [0.85288423],\n",
              "       [0.5019599 ],\n",
              "       [0.84670043]], dtype=float32)"
            ]
          },
          "metadata": {},
          "execution_count": 37
        }
      ]
    },
    {
      "cell_type": "code",
      "metadata": {
        "id": "Q1mHb_g9_-3l"
      },
      "source": [
        "cc_test = confusion_matrix(y_test, predictions)"
      ],
      "execution_count": 18,
      "outputs": []
    },
    {
      "cell_type": "code",
      "metadata": {
        "colab": {
          "base_uri": "https://localhost:8080/"
        },
        "id": "BXJUbeFkADe4",
        "outputId": "33c5aede-6d86-4014-e9a3-deb7e00f4b02"
      },
      "source": [
        "cc_test"
      ],
      "execution_count": 19,
      "outputs": [
        {
          "output_type": "execute_result",
          "data": {
            "text/plain": [
              "array([[4, 1],\n",
              "       [2, 3]])"
            ]
          },
          "metadata": {},
          "execution_count": 19
        }
      ]
    },
    {
      "cell_type": "markdown",
      "metadata": {
        "id": "_ouxqHOFIQ9U"
      },
      "source": [
        "-ROC Curves summarize the trade-off between the true positive rate and false positive rate for a predictive model using different probability thresholds.\n",
        "-Precision-Recall curves summarize the trade-off between the true positive rate and the positive predictive value for a predictive model using different probability thresholds.\n",
        "-ROC curves are appropriate when the observations are balanced between each class, whereas precision-recall curves are appropriate for imbalanced datasets.-"
      ]
    },
    {
      "cell_type": "code",
      "metadata": {
        "id": "50HH_4EyAEH6"
      },
      "source": [
        "from sklearn.metrics import roc_auc_score\n",
        "from sklearn.metrics import roc_curve\n",
        "\n",
        "fpr, tpr, thresholds = roc_curve(y_test, predictions)"
      ],
      "execution_count": 21,
      "outputs": []
    },
    {
      "cell_type": "code",
      "metadata": {
        "colab": {
          "base_uri": "https://localhost:8080/"
        },
        "id": "OBiFagQ8IloB",
        "outputId": "fe98aec3-502b-44b7-8709-0ebc31c8468c"
      },
      "source": [
        "auc = roc_auc_score(y_test, predictions)\n",
        "roc_auc = metrics.auc(fpr,tpr)\n",
        "print('AUC: %.3f' % auc)"
      ],
      "execution_count": 28,
      "outputs": [
        {
          "output_type": "stream",
          "name": "stdout",
          "text": [
            "AUC: 0.700\n"
          ]
        }
      ]
    },
    {
      "cell_type": "code",
      "metadata": {
        "colab": {
          "base_uri": "https://localhost:8080/",
          "height": 281
        },
        "id": "hwYw-oVsIxqz",
        "outputId": "fcad1bbe-137c-4325-ce35-66469c91de17"
      },
      "source": [
        "from matplotlib import pyplot\n",
        "\n",
        "plt.plot(fpr, tpr, 'b', label = 'AUC - .7' % roc_auc)\n",
        "plt.plot([0,1],[0,1],'r--')\n",
        "plt.title('reciever operating characteristics')\n",
        "plt.ylabel = ('True positive')\n",
        "plt.xlabel = ('False positive')\n",
        "plt.show()"
      ],
      "execution_count": 33,
      "outputs": [
        {
          "output_type": "display_data",
          "data": {
            "image/png": "[encoded data removed]",
            "text/plain": [
              "<Figure size 432x288 with 1 Axes>"
            ]
          },
          "metadata": {
            "needs_background": "light"
          }
        }
      ]
    },
    {
      "cell_type": "code",
      "metadata": {
        "id": "SiJs6jm7PJGb"
      },
      "source": [
        ""
      ],
      "execution_count": null,
      "outputs": []
    }
  ]
}